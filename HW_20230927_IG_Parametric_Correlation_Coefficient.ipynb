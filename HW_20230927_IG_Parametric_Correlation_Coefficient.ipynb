{
  "cells": [
    {
      "cell_type": "markdown",
      "metadata": {
        "id": "view-in-github",
        "colab_type": "text"
      },
      "source": [
        "<a href=\"https://colab.research.google.com/github/igolynker/NGG605/blob/main/HW_20230927_IG_Parametric_Correlation_Coefficient.ipynb\" target=\"_parent\"><img src=\"https://colab.research.google.com/assets/colab-badge.svg\" alt=\"Open In Colab\"/></a>"
      ]
    },
    {
      "cell_type": "markdown",
      "metadata": {
        "id": "pKIiY6p3GRFq"
      },
      "source": [
        "# Definitions"
      ]
    },
    {
      "cell_type": "markdown",
      "metadata": {
        "id": "x7VmLUr5GTNw"
      },
      "source": [
        "Correlation is a measure of association between measured (random) variables. The Pearson's correlation coefficient quantifies the strength of this association on a simple scale: it varies between -1 and 1. The larger the absolute value of this correlation coefficient, the tighter the correlation and more predictive it is. The smaller the absolute value, the weaker the correlation and less predictive. Positive values imply a positive correlation: as I eat more ice cream, my weight goes up. Negative values imply a negative correlation: as I eat more ice cream, my weight goes down (wouldn't that be great!).\n",
        "\n",
        "The Pearson's correlation coefficient is called parametric because it assumes a parametric form of the distributions of the two random variables, $X$ and $Y$; specifically, that both variables are [normally distributed](https://colab.research.google.com/drive/1-KxH3FCq5rDyyO33HXxewIv-kKldkINi?usp=sharing)."
      ]
    },
    {
      "cell_type": "markdown",
      "metadata": {
        "id": "IyCyVIIDH0rb"
      },
      "source": [
        "# Computing for a population"
      ]
    },
    {
      "cell_type": "markdown",
      "metadata": {
        "id": "sYDtxlCZH5BC"
      },
      "source": [
        "When you have full knowledge of the joint distribution of $𝑋$ and $Y$ (e.g., when working with an idealized model, not with real, finite data sets), the Pearson's correlation coefficient is typically denoted as $\\rho$ and computed in terms of the covariance between the two variables, normalized by the product of their individual standard deviations:\n",
        "\n",
        "$\\quad\\rho_{X,Y}=\\frac{cov(X,Y)}{\\sigma_x\\sigma_y}$\n",
        "\n",
        "where\n",
        "\n",
        "$\\quad cov(X,Y)=E\\left [ (X-\\mu_X)(Y-\\mu_Y)\\right ]$\n",
        "\n",
        "in which $\\mu_X$ and $\\mu_Y$ are the means of $X$ and $Y$, respectively, and $E\\left[\\right]$ denotes expected value."
      ]
    },
    {
      "cell_type": "markdown",
      "metadata": {
        "id": "xDpz-ktIJGhf"
      },
      "source": [
        "# Computing for a sample"
      ]
    },
    {
      "cell_type": "markdown",
      "metadata": {
        "id": "c-qA27fbJM6k"
      },
      "source": [
        "When working with real data, you have a [sample, not a population](https://colab.research.google.com/drive/1SnVM1MPaFvMSjlDLyihgeZ25OAk-k4Nk?usp=sharing), and thus need to compute the correlation coefficient (typically denoted as *r*) using sample statistics."
      ]
    },
    {
      "cell_type": "markdown",
      "metadata": {
        "id": "9LJSqIDXJZ4f"
      },
      "source": [
        "## Sample Pearson's correlation coefficient"
      ]
    },
    {
      "cell_type": "markdown",
      "metadata": {
        "id": "Ytr0p-0MJcld"
      },
      "source": [
        "$\\quad r_{X,Y}=\\frac{\\sum^n_{i-1}{(x_i-\\bar{x})(y_i-\\bar{y})}}{\\sqrt{\\sum^n_{i-1}{(x_i-\\bar{x})^2}}\\sqrt{\\sum^n_{i-1}{(y_i-\\bar{y})^2}}}$\n",
        "\n",
        "where\n",
        "\n",
        "$\\quad \\bar{x}=\\frac{1}{n}\\sum^n_{i=1}{x_i,\\bar{y}}=\\frac{1}{n}\\sum^n_{i=1}{y_i}$\n",
        "\n",
        "are the sample means."
      ]
    },
    {
      "cell_type": "markdown",
      "metadata": {
        "id": "F2at-qokKj34"
      },
      "source": [
        "## Coefficient of determination"
      ]
    },
    {
      "cell_type": "markdown",
      "metadata": {
        "id": "KHOpKncgKoJP"
      },
      "source": [
        "It is possible to compute $r_{X,Y}$ not just when $X$ and $Y$ are two random variables, but also when one is a random (dependent) variable (typically $Y$) and the other is an independent or explanatory variable (typically $X$). In this case, the square of the correlation coefficient ($r^2$) quantifies the total variation in one variable ($Y$) that is explained by the regression line with respect to the other variable ($X$). This quantity is called the **coefficient of determination** and is often referred to as the fraction of explained variance"
      ]
    },
    {
      "cell_type": "markdown",
      "metadata": {
        "id": "dRpX2JmfLAo7"
      },
      "source": [
        "## Standard error of the sample Pearson's correlation coefficient"
      ]
    },
    {
      "cell_type": "markdown",
      "metadata": {
        "id": "WAWhhqGfLDrG"
      },
      "source": [
        "The standard error of the sample *r* is computed by assuming that r follows a [Student's t distribution](https://colab.research.google.com/drive/1Q_Du5NK71Rc1qu-byh8dy8Fs39uvR_4n?usp=sharing) with two degrees of freedom (because of the two variables):\n",
        "\n",
        "$\\quad s_r=\\sqrt{\\frac{1-r^2}{n-2}}$\n",
        "\n",
        "Note that \"standard error\" refers in general to the standard deviation of a statistical estimate, which here is *r*. It is not the same thing as the \"standard error of the mean\", which refers to the standard deviation of a statistical estimate of a mean."
      ]
    },
    {
      "cell_type": "markdown",
      "metadata": {
        "id": "4yGAhXVULi3C"
      },
      "source": [
        "## Confidence intervals for the sample Pearson's correlation coefficient"
      ]
    },
    {
      "cell_type": "markdown",
      "metadata": {
        "id": "-YIP1v0vLla_"
      },
      "source": [
        "This is a bit tricker to compute, because r is not normally distributed, particularly around the extreme values (e.g., around 1, the distribution cannot go higher than one but can take many values <1). We therefore need to do the following (a good explanation is [here](http://faculty.washington.edu/gloftus/P317-318/Useful_Information/r_to_z/PearsonrCIs.pdf)):\n",
        "\n",
        "1\\. Take the Fisher's z-transformation of r:\n",
        "\n",
        "$\\quad z=0.5\\times ln(\\frac{1+r}{1-r})$\n",
        "\n",
        "2\\. Compute its standard deviation as:\n",
        "\n",
        "$\\quad s_z=\\sqrt{\\frac{1}{n-3}}$\n",
        "\n",
        "3\\. Compute confidence intervals in this z-space as we have shown [here](https://colab.research.google.com/drive/1rdJMusMZDTaM9OGsyt27tCVkSasmRj2O?usp=sharing), as:\n",
        "\n",
        "$\\quad z \\pm (z\\:criterion) \\times s_z$\n",
        "\n",
        "where the *z* criterion is determined from the desired confidence value using a [z-score calculator](http://www.z-table.com) or [norminv](https://www.mathworks.com/help/stats/norminv.html) in Matlab.\n",
        "\n",
        "4\\. Then translate each *z* value back to *r* as:\n",
        "\n",
        "$\\quad r=\\frac{e^{2z}-1}{e^{2z}+1}$\n"
      ]
    },
    {
      "cell_type": "markdown",
      "metadata": {
        "id": "ELEb_vqYQGdK"
      },
      "source": [
        "## Hypothesis testing on the sample Pearson's correlation coefficient"
      ]
    },
    {
      "cell_type": "markdown",
      "metadata": {
        "id": "5VSSh3pMQIJf"
      },
      "source": [
        "For $H_0: r=0$. Here we are considering a null distribution that is centered at *r*=0. In this case, we know that the distribution of *r* around that mean is symmetric, and the sample mean follows follows a [Student's *t* distribution](https://colab.research.google.com/drive/1Q_Du5NK71Rc1qu-byh8dy8Fs39uvR_4n?usp=sharing).  Therefore, our test statistic is simply the *t* statistic, which we compute as the residual (with respect to zero) of *r* divided by its standard error:\n",
        "\n",
        "$\\quad t=\\frac{r}{s_r}$\n",
        "\n",
        "with $n-2$ degrees of freedom.\n",
        "\n",
        "For $H_0: r=r_s,\\:where\\:r_s\\ne 0$. Here we are considering null distributions that are not centered at $r=0$ and therefore are not symmetric and do not follow a *t* distribution. We therefore first compute the *z* transformation of $r$ and $r_s$, as above. Now our test statistic is:\n",
        "\n",
        "$\\quad \\lambda =\\frac{z_r-z_{rs}}{\\sqrt{\\frac{1}{n-3}}}$\n",
        "\n",
        "with $n-2$ degrees of freedom.\n",
        "\n"
      ]
    },
    {
      "cell_type": "markdown",
      "metadata": {
        "id": "nvmWeSSHSF95"
      },
      "source": [
        "# Exercises"
      ]
    },
    {
      "cell_type": "markdown",
      "metadata": {
        "id": "bki88QRVSaj8"
      },
      "source": [
        "Let's examine the relationship between these two measured variables:\n",
        "\n",
        "Wing length | Tail length\n",
        "--- | ---\n",
        "10.4 | 7.4\n",
        "10.8 | 7.6\n",
        "11.1 | 7.9\n",
        "10.2 | 7.2\n",
        "10.3 | 7.4\n",
        "10.2 | 7.1\n",
        "10.7 | 7.4\n",
        "10.5 | 7.2\n",
        "10.8 | 7.8\n",
        "11.2 | 7.7\n",
        "10.6 | 7.8\n",
        "11.4 | 8.3\n",
        "\n",
        "Assume Wing length is the $X$ variable and Tail Length is the $Y$ variable, both measured in cm.\n",
        "\n",
        "Answers to the questions below will be found [here](https://github.com/PennNGG/Quantitative-Neuroscience/tree/master/Answers%20to%20Exercises/Python) after the due date."
      ]
    },
    {
      "cell_type": "markdown",
      "metadata": {
        "id": "zIfgeegzTlJl"
      },
      "source": [
        "##### 1\\. Plot X vs Y. Do they look related?"
      ]
    },
    {
      "cell_type": "code",
      "source": [
        "import numpy as np\n",
        "from scipy import stats\n",
        "from statsmodels.stats.multitest import multipletests\n",
        "import matplotlib.pyplot as plt\n",
        "import math as math\n",
        "\n",
        "#1. Let's examine the relationship between these two measured variables:\n",
        "x = [10.4,10.8,11.1, 10.2, 10.3, 10.2,10.7, 10.5, 10.8, 11.2, 10.6, 11.4]  #Wing legth\n",
        "y = [7.4, 7.6, 7.9, 7.2, 7.4, 7.1, 7.4, 7.2 ,7.8 ,7.7, 7.8, 8.3] #Tail length\n",
        "\n",
        "# plotting the points\n",
        "plt.plot(x, y, color='pink', linewidth = False, marker='.', markerfacecolor='red', markersize=10)\n",
        "plt.xlabel('Wing length')\n",
        "plt.ylabel('Tail length')\n",
        "\n",
        "# giving a title to my graph\n",
        "plt.title('Wing length vs. tail length')\n",
        "\n",
        "# function to show the plot\n",
        "plt.show()\n",
        "\n",
        "print(\"dots somewhat look related linearly\")\n"
      ],
      "metadata": {
        "colab": {
          "base_uri": "https://localhost:8080/",
          "height": 488
        },
        "id": "1BIJcfaMqXtX",
        "outputId": "8b16b807-7f6a-40be-887a-83a99c2d4d2a"
      },
      "execution_count": 3,
      "outputs": [
        {
          "output_type": "display_data",
          "data": {
            "text/plain": [
              "<Figure size 640x480 with 1 Axes>"
            ],
            "image/png": "[encoded data removed]"
          },
          "metadata": {}
        },
        {
          "output_type": "stream",
          "name": "stdout",
          "text": [
            "dots somewhat look related linearly\n"
          ]
        }
      ]
    },
    {
      "cell_type": "markdown",
      "metadata": {
        "id": "v4ihoOv0TzTk"
      },
      "source": [
        "##### 2\\. Calculate $r_{X,Y}$ and $r_{Y,X}$, first using the equations above and then using either the Python numpy funciton [corrcoef](https://numpy.org/doc/stable/reference/generated/numpy.corrcoef.html) or Matlab's built-in [corrcoef](https://www.mathworks.com/help/matlab/ref/corrcoef.html). Did you get the same answers?"
      ]
    },
    {
      "cell_type": "code",
      "source": [
        "\n",
        "#2. 2. Calculate  𝑟𝑋,𝑌  and  𝑟𝑌,𝑋 , first using the equations above and then using either the Python numpy funciton corrcoef or Matlab's built-in corrcoef. Did you get the same answers?\n",
        "#calculate the means for x and y\n",
        "mean_x = np.mean(x)\n",
        "mean_y = np.mean(y)\n",
        "\n",
        "#a. Calculate the sum of products of deviations from the means x and y (for loop)-> this would be the numerator\n",
        "sum_product_dev = 0\n",
        "for i in range(len(x)):\n",
        "    sum_product_dev += (x[i] - mean_x) * (y[i] - mean_y)\n",
        "#print(sum_product_dev)\n",
        "\n",
        "#b. Calculate the product of both standard deviations (root of the sum of the deviations from the mean for x and y)\n",
        "std_dev_x = 0\n",
        "for k in range(len(x)):\n",
        "    std_dev_x += (x[k] - mean_x) ** 2\n",
        "root_std_dev_x = std_dev_x**0.5\n",
        "\n",
        "std_dev_y = 0\n",
        "for j in range(len(y)):\n",
        "    std_dev_y += (y[j] - mean_y) ** 2\n",
        "root_std_dev_y = std_dev_y**0.5\n",
        "#print(root_std_dev_y)\n",
        "\n",
        "product_std_x_y = root_std_dev_x*root_std_dev_y\n",
        "#print(product_std_x_y)\n",
        "# divide a by b\n",
        "pearson_manual = sum_product_dev/product_std_x_y\n",
        "print(pearson_manual)\n",
        "\n",
        "#Pearson function\n",
        "correlation_matrix = np.corrcoef(x, y)\n",
        "#print(correlation_matrix)\n",
        "\n",
        "# print out only the second value of the first row of the matrix (the first is just 1)\n",
        "pearson_function = correlation_matrix[0, 1]\n",
        "print(pearson_function)\n",
        "\n",
        "print(\"Pearson Correlation Coefficient using manual funbction: \", pearson_manual)\n",
        "print(\"Pearson Correlation Coefficient Using Corrcoef():\", pearson_function)\n",
        "print(\"Did you get the same answers? \", pearson_manual == pearson_function)"
      ],
      "metadata": {
        "colab": {
          "base_uri": "https://localhost:8080/"
        },
        "id": "r3Wi6iYwqitX",
        "outputId": "cd3af8c1-0d26-4fe5-9526-e621dfc45dc4"
      },
      "execution_count": 2,
      "outputs": [
        {
          "output_type": "stream",
          "name": "stdout",
          "text": [
            "0.8703545613058227\n",
            "0.8703545613058227\n",
            "Pearson Correlation Coefficient using manual funbction:  0.8703545613058227\n",
            "Pearson Correlation Coefficient Using Corrcoef(): 0.8703545613058227\n",
            "Did you get the same answers?  True\n"
          ]
        }
      ]
    },
    {
      "cell_type": "markdown",
      "metadata": {
        "id": "XqoZSFdZU5zg"
      },
      "source": [
        "##### 3\\. What is the standard error of $r_{X,Y}$? The 95% confidence intervals computed from the standard error?"
      ]
    },
    {
      "cell_type": "code",
      "source": [
        "from scipy.stats import norm\n",
        "# \"The standard error of the sample r is computed by assuming that r follows a Student's t distribution with two degrees of freedom (because of the two variables):\"\n",
        "r = pearson_function\n",
        "n = len(x) #number of data points\n",
        "S_r = np.sqrt((1-r**2)/(n-2)) #standard error of \"r\" using the formula given\n",
        "print(\"Standard deviation of the correlation coefficient: \", S_r)\n",
        "\n",
        "#Compute the confidence intervala from standard error\n",
        "#1.Take the Fisher's z-transformation of r:\n",
        "nat_log_r = math.log((1+r)/(1-r))\n",
        "z = 0.5 * nat_log_r\n",
        "#2. Compute its standard deviation as:\n",
        "S_z = np.sqrt(1/(n-3))\n",
        "#3. Compute confidence intervals in this z-space\n",
        "z_criterion = norm.ppf(0.95) #z score for a specific CI = 0.95. Had to import from scipy.stats import norm\n",
        "CI_lower = z - (z_criterion)* S_z\n",
        "CI_higher = z + (z_criterion) * S_z\n",
        "\n",
        "#4. Then translate each z value back to r as:\n",
        "r_transformed = (np.exp(2 * z) - 1) / (np.exp(2 * z) + 1)\n",
        "\n",
        "print(\"The 95% CI is: [\", CI_lower, \", \", CI_higher, \"]\")\n"
      ],
      "metadata": {
        "colab": {
          "base_uri": "https://localhost:8080/"
        },
        "id": "ZVxu0iI_3Gfx",
        "outputId": "c06fe297-5071-44fb-d126-50956247924e"
      },
      "execution_count": 5,
      "outputs": [
        {
          "output_type": "stream",
          "name": "stdout",
          "text": [
            "Standard deviation of the correlation coefficient:  0.15571863652567375\n",
            "The 95% CI is: [ 0.7862554412699767 ,  1.8828245259042915 ]\n"
          ]
        }
      ]
    },
    {
      "cell_type": "markdown",
      "metadata": {
        "id": "sU0UjR6uVMl2"
      },
      "source": [
        "##### 4\\. Should the value of $r_{X,Y}$ be considered significant at the *p*<0.05 level, given a two-tailed test (i.e., we reject if the test statistic is too large on either tail of the null distribution) for $H_0: r_{X,Y}=0$?"
      ]
    },
    {
      "cell_type": "code",
      "source": [
        "#double-checked ChatGPT how to use an r value (Person's correlation coefficient) and s S_r (standard error of the coefficient) to calculate the t-score\n",
        "# Calculate the Test Statistic (t-score):\n",
        "#Use the formula for the t-score:t = 𝑟 / 𝑠𝑟\n",
        "t = r / S_r\n",
        "print(t)\n",
        "print(\"Since the null hypothesis is that r = 0, and here r is \", t, \"or not r = 0, we can reject the null hypothesis and call the result significant\")\n"
      ],
      "metadata": {
        "colab": {
          "base_uri": "https://localhost:8080/"
        },
        "id": "MqBdFmjgHVNQ",
        "outputId": "29e0efa0-e4fe-4244-bc04-a51c3fc3878b"
      },
      "execution_count": 6,
      "outputs": [
        {
          "output_type": "stream",
          "name": "stdout",
          "text": [
            "5.589276792584329\n",
            "Since the null hypothesis is that r = 0, and here r is  5.589276792584329 or not r = 0, we can reject the null hypothesis and call the result significant\n"
          ]
        }
      ]
    },
    {
      "cell_type": "markdown",
      "metadata": {
        "id": "mywqPzz3Vg0I"
      },
      "source": [
        "##### 5\\. Yale does the exact same study and finds that his correlation value is 0.75. Is this the same as yours? That is, evaluate $𝐻_0: r=0.75$."
      ]
    },
    {
      "cell_type": "code",
      "source": [
        "#5. Yale does the exact same study and finds that his correlation value is 0.75. Is this the same as yours? That is, evaluate\n",
        "#Recalculate  S_r (standard error) and t-score with r = 0.75\n",
        "#From HW guide: \"For  𝐻0:𝑟=𝑟𝑠,𝑤ℎ𝑒𝑟𝑒𝑟𝑠≠0 . Here we are considering null distributions that are not centered at  𝑟=0  and therefore are not symmetric and do not follow a t distribution. We therefore first compute the z transformation of  𝑟  and  𝑟𝑠 , as above. Now our test statistic is:\n",
        "#using r as the initial r I calculated and Rs and r_yale (the second score I will calculate)\n",
        "r_Yale = 0.75\n",
        "n = len(x) #number of data points\n",
        "S_r_Yale = np.sqrt((1-r**2)/(n-2)) #standard error of \"r\" using the formula given\n",
        "print(\"Standard deviation of the correlation coefficient: \", S_r_Yale)\n",
        "#Compute the confidence intervala from standard error\n",
        "#1.Take the Fisher's z-transformation of r:\n",
        "nat_log_r_Yale = math.log((1+r_Yale)/(1-r_Yale))\n",
        "z_Yale = 0.5 * nat_log_r_Yale\n",
        "\n",
        "#Insert lambda test  as the last step (from HW guide)\n",
        "lambda_test = (z - z_Yale)/(np.sqrt(1/(n-3)))\n",
        "print(\"t-score: \", lambda_test)\n",
        "print(\"Yale's r=0.75 yileded a non-zero t-score (\", lambda_test, \"), hence, we can reject the null hypothesis in this case as well\")\n"
      ],
      "metadata": {
        "colab": {
          "base_uri": "https://localhost:8080/"
        },
        "id": "Yg5FYy6bHXFN",
        "outputId": "d64b2fc6-43cf-4043-e366-f49faa0c0d06"
      },
      "execution_count": 8,
      "outputs": [
        {
          "output_type": "stream",
          "name": "stdout",
          "text": [
            "Standard deviation of the correlation coefficient:  0.15571863652567375\n",
            "t-score:  1.0847547271784326\n",
            "Yale's r=0.75 yileded a non-zero t-score ( 1.0847547271784326 ), hence, we can reject the null hypothesis in this case as well\n"
          ]
        }
      ]
    },
    {
      "cell_type": "markdown",
      "source": [],
      "metadata": {
        "id": "s3QQbjOXZP6E"
      }
    },
    {
      "cell_type": "markdown",
      "metadata": {
        "id": "qYW4bBQ7Vxa-"
      },
      "source": [
        "##### 6\\. Finally, calculate the statistical power and sample size needed to reject $H_0:r=0\\:when\\:r\\ge 0.5$."
      ]
    },
    {
      "cell_type": "code",
      "source": [
        "#6. Finally, calculate the statistical power and sample size needed to reject  𝐻0:𝑟=0 𝑤ℎ𝑒𝑛 𝑟≥0.5 ..\n",
        "#Adapted from pervious HW assigment\n",
        "from statsmodels.stats.power import TTestIndPower\n",
        "effect_size = 0.5 # Desired effect size\n",
        "alpha = 0.05  # Significance level\n",
        "power = 0.80  # Desired power\n",
        "power_analysis = TTestIndPower() #this is how you deal wih an instance method.\n",
        "#sample_size = power_analysis.solve_power(effect_size=effect_size, power=power, alpha=alpha, ratio=1, alternative='two-sided') #for two-sided\n",
        "sample_size = power_analysis.solve_power(effect_size=effect_size, power=power, alpha=alpha, ratio=1, alternative='larger') #for larger because looking for effect size >= 0.5\n",
        "print(f\"Required Sample Size: {sample_size:.2f}\")"
      ],
      "metadata": {
        "colab": {
          "base_uri": "https://localhost:8080/"
        },
        "id": "XbGRByY0KwQM",
        "outputId": "ae0bc326-8a71-4577-da66-8e3ddd251e56"
      },
      "execution_count": 9,
      "outputs": [
        {
          "output_type": "stream",
          "name": "stdout",
          "text": [
            "Required Sample Size: 50.15\n"
          ]
        }
      ]
    },
    {
      "cell_type": "markdown",
      "metadata": {
        "id": "UqoNXyuxP-go"
      },
      "source": [
        "# Additional Resources\n"
      ]
    },
    {
      "cell_type": "markdown",
      "metadata": {
        "id": "clnBO4FU28El"
      },
      "source": [
        "- Differences between correlation and regression are discussed [here](https://www.bmj.com/about-bmj/resources-readers/publications/statistics-square-one/11-correlation-and-regression) and [here](http://www.biostathandbook.com/linearregression.html).\n",
        "\n",
        "- A reference on [how to choose the appropriate measure of association](https://journals.sagepub.com/doi/pdf/10.1177/8756479308317006) (Khamis 2008)."
      ]
    },
    {
      "cell_type": "markdown",
      "metadata": {
        "id": "tteEm2Qlgbb3"
      },
      "source": [
        "# Credits\n",
        "\n",
        "Copyright 2021 by Joshua I. Gold, University of Pennsylvania"
      ]
    }
  ],
  "metadata": {
    "colab": {
      "collapsed_sections": [
        "sU0UjR6uVMl2",
        "mywqPzz3Vg0I",
        "qYW4bBQ7Vxa-"
      ],
      "provenance": [],
      "include_colab_link": true
    },
    "kernelspec": {
      "display_name": "Python 3",
      "name": "python3"
    },
    "language_info": {
      "name": "python"
    }
  },
  "nbformat": 4,
  "nbformat_minor": 0
}