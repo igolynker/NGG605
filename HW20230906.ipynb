{
  "nbformat": 4,
  "nbformat_minor": 0,
  "metadata": {
    "colab": {
      "provenance": [],
      "authorship_tag": "ABX9TyPXK7oIudcqMqeQjO8LlTzP",
      "include_colab_link": true
    },
    "kernelspec": {
      "name": "python3",
      "display_name": "Python 3"
    },
    "language_info": {
      "name": "python"
    }
  },
  "cells": [
    {
      "cell_type": "markdown",
      "metadata": {
        "id": "view-in-github",
        "colab_type": "text"
      },
      "source": [
        "<a href=\"https://colab.research.google.com/github/igolynker/NGG605/blob/main/HW20230906.ipynb\" target=\"_parent\"><img src=\"https://colab.research.google.com/assets/colab-badge.svg\" alt=\"Open In Colab\"/></a>"
      ]
    },
    {
      "cell_type": "code",
      "execution_count": null,
      "metadata": {
        "id": "wr6EzmL2TNO-"
      },
      "outputs": [],
      "source": []
    },
    {
      "cell_type": "markdown",
      "source": [
        "   ***  - Exercise #1: If someone gets a positive test, is it \"statistically significant\" at the p<0.05 level? Why or why not?in a population of 1000 people, with 5% false positives and no false negatives, with 40% of the population being truly infected we get the following numbers: 0.4 * 1000 = 400 people truly positive (1-0.4) * 1000 = 600 truly negative. However, with a false-positive rate of 5%, 5% of those 600 negative will be considered false positive 0.05 * 600 = 30 out of 600 false-positive 600-30 = 570 diagnosed as negative correctly. So, in this given population, there are 400 positive people in addition to 30 more diagnosed as positive (false-positive). True positive probability would be 400 out of (400+30) all positive = 400/430 = 93% confidence of being TRULY positive. This means that the probability of them being incorrect (or false-positive) is 100%-93% = 7% which suggests a p= 0.07 -> so this would not be considered \"statistically significant\".\n",
        "\n",
        "  *** Exercise 2 : What is the probability that if someone gets a positive test, that person is infected? Based on the same explaination above, 0.93, or 93%."
      ],
      "metadata": {
        "id": "i8isNk7bTWtG"
      }
    }
  ]
}